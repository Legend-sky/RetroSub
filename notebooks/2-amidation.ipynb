{
 "cells": [
  {
   "cell_type": "code",
   "execution_count": 1,
   "metadata": {},
   "outputs": [],
   "source": [
    "import json\n",
    "import pickle\n",
    "import sys\n",
    "from pathlib import Path\n",
    "from collections import Counter\n",
    "from rdkit import Chem\n",
    "from IPython import display\n",
    "\n",
    "# hack to import parent packages\n",
    "sys.path.append(str(Path.cwd().parent))\n",
    "\n",
    "from data_utils.evaluator import get_amidation_rxns, get_p_at_k, count_implicit_valence_N\n",
    "from utils.mol_utils import remove_isotope"
   ]
  },
  {
   "cell_type": "code",
   "execution_count": 2,
   "metadata": {},
   "outputs": [
    {
     "name": "stderr",
     "output_type": "stream",
     "text": [
      "100%|██████████| 82932/82932 [01:25<00:00, 967.80it/s] \n"
     ]
    },
    {
     "data": {
      "text/plain": [
       "1154"
      ]
     },
     "execution_count": 2,
     "metadata": {},
     "output_type": "execute_result"
    }
   ],
   "source": [
    "sub_result_dict = pickle.load(open('../data/sub_result_dict.pkl', 'rb'))\n",
    "rxns = get_amidation_rxns(sub_result_dict.keys())\n",
    "len(rxns)"
   ]
  },
  {
   "cell_type": "code",
   "execution_count": 3,
   "metadata": {},
   "outputs": [],
   "source": [
    "new_sub_result_dict = {}\n",
    "for rxn in rxns:\n",
    "    new_sub_result_dict[rxn] = [p[0] for p in sub_result_dict[rxn]]"
   ]
  },
  {
   "cell_type": "code",
   "execution_count": 4,
   "metadata": {},
   "outputs": [
    {
     "name": "stdout",
     "output_type": "stream",
     "text": [
      "top 1 accuracy:  60.49 %\n",
      "top 2 accuracy:  71.32 %\n",
      "top 3 accuracy:  76.17 %\n",
      "top 4 accuracy:  79.12 %\n",
      "top 5 accuracy:  80.16 %\n",
      "top 6 accuracy:  80.76 %\n",
      "top 7 accuracy:  81.37 %\n",
      "top 8 accuracy:  81.80 %\n",
      "top 9 accuracy:  82.41 %\n",
      "top 10 accuracy:  82.58 %\n"
     ]
    }
   ],
   "source": [
    "get_p_at_k(new_sub_result_dict)"
   ]
  },
  {
   "cell_type": "code",
   "execution_count": 5,
   "metadata": {},
   "outputs": [
    {
     "name": "stdout",
     "output_type": "stream",
     "text": [
      "0.9061313387496597\n"
     ]
    }
   ],
   "source": [
    "total_sub, correct_sub = 0, 0\n",
    "for rxn in rxns:\n",
    "    all_subs = set()\n",
    "    sub2count = {}\n",
    "    for pred in sub_result_dict[rxn]:\n",
    "        _, _, _, sub_exists_rankings = pred\n",
    "        cur_subs_list = [(ele[0], ele[1]) for ele in sub_exists_rankings]\n",
    "        all_subs.update(cur_subs_list)\n",
    "        counter = Counter(cur_subs_list)\n",
    "        for ele_count in counter.most_common():\n",
    "            ele, count = ele_count\n",
    "            if (ele in sub2count and sub2count[ele] < count) or (ele not in sub2count):\n",
    "                sub2count[ele] = count\n",
    "    total_sub += sum(sub2count.values())\n",
    "    correct_sub += sum([ele[1] for ele in sub2count.items() if ele[0][1]])      \n",
    "print(correct_sub/total_sub)"
   ]
  },
  {
   "cell_type": "code",
   "execution_count": 6,
   "metadata": {},
   "outputs": [],
   "source": [
    "blocked_inactive_N_in_sub = 0\n",
    "not_blocked_inactive_N_in_sub = 0\n",
    "blocked_rxns, unblocked_rxns = [], []\n",
    "for rxn in rxns:\n",
    "    src, tgt = rxn\n",
    "    corr_idx = -1\n",
    "    for idx, pred in enumerate(new_sub_result_dict[rxn]):\n",
    "        if idx >= 10:\n",
    "            continue\n",
    "        if tgt == pred:\n",
    "            corr_idx = idx    \n",
    "    is_blocked = False\n",
    "    product, reactants = rxn\n",
    "    reactants_mol = Chem.MolFromSmiles(reactants)\n",
    "    correct_subs = set()\n",
    "    for pred in sub_result_dict[rxn]:\n",
    "        correct_subs.update([ele[0] for ele in pred[-1] if ele[1]])\n",
    "    \n",
    "    for sub in correct_subs:       \n",
    "        sub_mol = remove_isotope(Chem.MolFromSmiles(sub))        \n",
    "        total_N, v2_N, v1_N, amide_num = count_implicit_valence_N(reactants_mol, idset=reactants_mol.GetSubstructMatch(sub_mol))\n",
    "        if v1_N > 0:\n",
    "            blocked_inactive_N_in_sub +=1\n",
    "            is_blocked = True\n",
    "            blocked_rxns.append(rxn)\n",
    "            break\n",
    "    if not is_blocked:\n",
    "        unblocked_rxns.append(rxn)\n",
    "        not_blocked_inactive_N_in_sub+=1      \n"
   ]
  },
  {
   "cell_type": "code",
   "execution_count": 7,
   "metadata": {},
   "outputs": [
    {
     "data": {
      "text/plain": [
       "(665, 0.5762564991334489)"
      ]
     },
     "execution_count": 7,
     "metadata": {},
     "output_type": "execute_result"
    }
   ],
   "source": [
    "blocked_inactive_N_in_sub, blocked_inactive_N_in_sub/len(rxns)"
   ]
  },
  {
   "cell_type": "code",
   "execution_count": 8,
   "metadata": {},
   "outputs": [
    {
     "name": "stdout",
     "output_type": "stream",
     "text": [
      "top 1 accuracy:  67.67 %\n",
      "top 2 accuracy:  78.35 %\n",
      "top 3 accuracy:  81.95 %\n",
      "top 4 accuracy:  84.66 %\n",
      "top 5 accuracy:  85.56 %\n",
      "top 6 accuracy:  86.32 %\n",
      "top 7 accuracy:  86.92 %\n",
      "top 8 accuracy:  87.07 %\n",
      "top 9 accuracy:  87.37 %\n",
      "top 10 accuracy:  87.52 %\n",
      "\n",
      "\n",
      "top 1 accuracy:  50.72 %\n",
      "top 2 accuracy:  61.76 %\n",
      "top 3 accuracy:  68.30 %\n",
      "top 4 accuracy:  71.57 %\n",
      "top 5 accuracy:  72.80 %\n",
      "top 6 accuracy:  73.21 %\n",
      "top 7 accuracy:  73.82 %\n",
      "top 8 accuracy:  74.64 %\n",
      "top 9 accuracy:  75.66 %\n",
      "top 10 accuracy:  75.87 %\n"
     ]
    }
   ],
   "source": [
    "block_sub_result_dict = {}\n",
    "for rxn in blocked_rxns:\n",
    "    block_sub_result_dict[rxn] = [p[0] for p in sub_result_dict[rxn]]\n",
    "get_p_at_k(block_sub_result_dict, n_best=10)\n",
    "unblock_sub_result_dict = {}\n",
    "print('\\n')\n",
    "for rxn in unblocked_rxns:\n",
    "    unblock_sub_result_dict[rxn] = [p[0] for p in sub_result_dict[rxn]]\n",
    "get_p_at_k(unblock_sub_result_dict, n_best=10)"
   ]
  }
 ],
 "metadata": {
  "kernelspec": {
   "display_name": "retrosub",
   "language": "python",
   "name": "python3"
  },
  "language_info": {
   "codemirror_mode": {
    "name": "ipython",
    "version": 3
   },
   "file_extension": ".py",
   "mimetype": "text/x-python",
   "name": "python",
   "nbconvert_exporter": "python",
   "pygments_lexer": "ipython3",
   "version": "3.7.12"
  },
  "vscode": {
   "interpreter": {
    "hash": "f6d49a75f7ba54184f6e117f8690f4c521276805d6e956d52c324f39ee5d316f"
   }
  }
 },
 "nbformat": 4,
 "nbformat_minor": 2
}
